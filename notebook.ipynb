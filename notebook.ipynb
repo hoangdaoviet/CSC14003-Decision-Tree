{
 "cells": [
  {
   "cell_type": "markdown",
   "metadata": {},
   "source": [
    "# Lab 2 : Decision Tree"
   ]
  },
  {
   "cell_type": "markdown",
   "metadata": {},
   "source": [
    "## Preparing the dataset"
   ]
  },
  {
   "cell_type": "markdown",
   "metadata": {},
   "source": [
    "Import necessary libraries and routines."
   ]
  },
  {
   "cell_type": "code",
   "execution_count": 1,
   "metadata": {},
   "outputs": [],
   "source": [
    "import os\n",
    "from sklearn.model_selection import train_test_split\n",
    "from sklearn.tree import DecisionTreeClassifier\n",
    "from sklearn.tree import export_graphviz\n",
    "from sklearn.metrics import accuracy_score, classification_report, confusion_matrix, ConfusionMatrixDisplay\n",
    "import graphviz"
   ]
  },
  {
   "cell_type": "markdown",
   "metadata": {},
   "source": [
    "Download the data set."
   ]
  },
  {
   "cell_type": "code",
   "execution_count": 2,
   "metadata": {},
   "outputs": [
    {
     "name": "stdout",
     "output_type": "stream",
     "text": [
      "Requirement already satisfied: ucimlrepo in /home/daoviethoang/anaconda3/envs/school/lib/python3.12/site-packages (0.0.7)\n",
      "Requirement already satisfied: pandas>=1.0.0 in /home/daoviethoang/anaconda3/envs/school/lib/python3.12/site-packages (from ucimlrepo) (2.2.2)\n",
      "Requirement already satisfied: certifi>=2020.12.5 in /home/daoviethoang/anaconda3/envs/school/lib/python3.12/site-packages (from ucimlrepo) (2024.7.4)\n",
      "Requirement already satisfied: numpy>=1.26.0 in /home/daoviethoang/anaconda3/envs/school/lib/python3.12/site-packages (from pandas>=1.0.0->ucimlrepo) (2.0.1)\n",
      "Requirement already satisfied: python-dateutil>=2.8.2 in /home/daoviethoang/anaconda3/envs/school/lib/python3.12/site-packages (from pandas>=1.0.0->ucimlrepo) (2.9.0.post0)\n",
      "Requirement already satisfied: pytz>=2020.1 in /home/daoviethoang/anaconda3/envs/school/lib/python3.12/site-packages (from pandas>=1.0.0->ucimlrepo) (2024.1)\n",
      "Requirement already satisfied: tzdata>=2022.7 in /home/daoviethoang/anaconda3/envs/school/lib/python3.12/site-packages (from pandas>=1.0.0->ucimlrepo) (2024.1)\n",
      "Requirement already satisfied: six>=1.5 in /home/daoviethoang/anaconda3/envs/school/lib/python3.12/site-packages (from python-dateutil>=2.8.2->pandas>=1.0.0->ucimlrepo) (1.16.0)\n",
      "Note: you may need to restart the kernel to use updated packages.\n"
     ]
    }
   ],
   "source": [
    "%pip install ucimlrepo"
   ]
  },
  {
   "cell_type": "markdown",
   "metadata": {},
   "source": [
    "Load dataset from drive to memory in `pandas.DataFrame`."
   ]
  },
  {
   "cell_type": "code",
   "execution_count": 3,
   "metadata": {},
   "outputs": [],
   "source": [
    "from ucimlrepo import fetch_ucirepo\n",
    "breast_cancer_wisconsin_diagnostic = fetch_ucirepo(id=17)\n",
    "\n",
    "feature = breast_cancer_wisconsin_diagnostic.data.features\n",
    "label = breast_cancer_wisconsin_diagnostic.data.targets"
   ]
  },
  {
   "cell_type": "markdown",
   "metadata": {},
   "source": [
    "Create 4 copies of the original data set. For each one, split it into two parts: train and test. The propotion of splitting for each copy is: 60/40, 40/60, 80/20, 90/10."
   ]
  },
  {
   "cell_type": "code",
   "execution_count": 4,
   "metadata": {},
   "outputs": [],
   "source": [
    "X_trains, y_trains = dict(), dict()\n",
    "X_tests, y_tests = dict(), dict()\n",
    "\n",
    "train_test_propotions = ['60/40', '40/60', '80/20', '90/10']\n",
    "\n",
    "for propotion in train_test_propotions:\n",
    "    test_size = 1 - int(propotion.split('/')[0]) / 100\n",
    "    X_train, X_test, y_train, y_test = train_test_split(\n",
    "        feature, label, \n",
    "        test_size=test_size,\n",
    "        stratify=label)\n",
    "    X_trains[propotion] = X_train\n",
    "    y_trains[propotion] = y_train\n",
    "    X_tests[propotion] = X_test\n",
    "    y_tests[propotion] = y_test"
   ]
  },
  {
   "cell_type": "markdown",
   "metadata": {},
   "source": [
    "## Building the tree classifier"
   ]
  },
  {
   "cell_type": "markdown",
   "metadata": {},
   "source": [
    "Train 4 models and save them along with their accuracies."
   ]
  },
  {
   "cell_type": "code",
   "execution_count": 5,
   "metadata": {},
   "outputs": [],
   "source": [
    "models = dict()\n",
    "\n",
    "for propotion in train_test_propotions:\n",
    "    model = DecisionTreeClassifier()\n",
    "    model.fit(X_trains[propotion], y_trains[propotion])\n",
    "    models[propotion] = model"
   ]
  },
  {
   "cell_type": "markdown",
   "metadata": {},
   "source": [
    "`export_model_image` function exports visualizing image of the decision tree, with a custom name."
   ]
  },
  {
   "cell_type": "code",
   "execution_count": 6,
   "metadata": {},
   "outputs": [],
   "source": [
    "def export_model_image(model, filename, save_picture=True):\n",
    "    dot_data = export_graphviz(model, \n",
    "                            out_file=None, \n",
    "                            feature_names=[feature_name for feature_name in feature], \n",
    "                            class_names=['benign', 'malignant'],\n",
    "                            filled=True, \n",
    "                            rounded=True,\n",
    "                            special_characters=True)\n",
    "\n",
    "    graph = graphviz.Source(dot_data)  \n",
    "    graph.format = 'png'\n",
    "    graph.render(filename=filename)\n",
    "    # graph.view()"
   ]
  },
  {
   "cell_type": "markdown",
   "metadata": {},
   "source": [
    "Export visualizations of all models.\n",
    "\n",
    "First, create `images` folder to contain all images generated in this notebook. Then create `decision_tree_classifier` inside the `images` folder to contain images for this section."
   ]
  },
  {
   "cell_type": "code",
   "execution_count": 7,
   "metadata": {},
   "outputs": [],
   "source": [
    "if os.path.exists('images') == False:\n",
    "    os.mkdir('images')"
   ]
  },
  {
   "cell_type": "code",
   "execution_count": 20,
   "metadata": {},
   "outputs": [],
   "source": [
    "if os.path.exists('images/decision_tree_classifier') == False:\n",
    "    os.mkdir('images/decision_tree_classifier')\n",
    "\n",
    "for propotion, model in models.items():\n",
    "    propotion = propotion.replace('/', '-')\n",
    "    export_model_image(model, f'images/decision_tree_classifier/DT_({propotion})')"
   ]
  },
  {
   "cell_type": "markdown",
   "metadata": {},
   "source": [
    "## Evaluating the decision tree classifiers"
   ]
  },
  {
   "cell_type": "markdown",
   "metadata": {},
   "source": [
    "### Explanation"
   ]
  },
  {
   "cell_type": "markdown",
   "metadata": {},
   "source": [
    "#### `confusion_matrix`\n",
    "\n",
    "In the confusion matrix $C$, the row represents the actual Benign or Malignant classes, while the column represents the prediction of the model.\n",
    "- $C_{0,0}$: Both the truth and the prediction are Benign\n",
    "- $C_{0,1}$: The truth is Benign, but the prediction is Malignant\n",
    "- $C_{1,0}$: The truth is Malignant, but the prediction is Benign\n",
    "- $C_{1,1}$: Both the truth and the prediction are Malignant"
   ]
  },
  {
   "cell_type": "markdown",
   "metadata": {},
   "source": [
    "#### `classification_report`\n",
    "\n",
    "The Precision, Recall and F1 Score can be calculated based on which type of class is chosen to be Positive. For example: if Malignant as Positive, Benign as Negative. *For more detail, please refer to the report document.*\n",
    "\n",
    "1. precision: **What percentage of all the Positive predictions made by the model were accurate?** The formula: $$Precision=\\frac{True \\ Positives}{True \\ Positives + False \\ Positives}$$\n",
    "\n",
    "2. recall: **What percentage of all the actual Positives were accurately predicted by the model?** The formula: $$Recall=\\frac{True \\ Positive}{True \\ Positive + False \\ Negative}$$\n",
    "\n",
    "3. F1 Score: **The harmonic mean of Precision and Recall.** If any of them becomes extremely low, F1 Score will also go down. Thus, F1 Score can help you find a good balance between Precision and Recall. The formula: $$F1 \\ Score=\\frac{2 \\times Precision \\times Recall}{Precision + Recall}$$\n",
    "\n",
    "4. Support: **How many samples are in each class.** It uses the ground truth labels, which represent the actual class of each sample."
   ]
  },
  {
   "cell_type": "markdown",
   "metadata": {},
   "source": [
    "### Plotting"
   ]
  },
  {
   "cell_type": "markdown",
   "metadata": {},
   "source": [
    "`plot_evaluation(model_name, cls_report, conf_matrix)` function receives model's name, its classification report and confusion matrix to plot evaluation of the model."
   ]
  },
  {
   "cell_type": "code",
   "execution_count": 9,
   "metadata": {},
   "outputs": [],
   "source": [
    "def plot_evaluation(model_name, cls_report, conf_matrix):\n",
    "    print(f'Model: {model_name}')\n",
    "    print(f'Classification Report:\\n{cls_report}')\n",
    "    disp = ConfusionMatrixDisplay(confusion_matrix=conf_matrix, display_labels=['benign', 'malignant'])\n",
    "    disp.plot()"
   ]
  },
  {
   "cell_type": "markdown",
   "metadata": {},
   "source": [
    "Create classification report and confusion matrix for each models."
   ]
  },
  {
   "cell_type": "code",
   "execution_count": 10,
   "metadata": {},
   "outputs": [],
   "source": [
    "evaluation_metrics = dict()\n",
    "\n",
    "for model_name, model in models.items():\n",
    "    cls_report = classification_report(y_tests[model_name], model.predict(X_tests[model_name])) \n",
    "    conf_matrix = confusion_matrix(y_tests[model_name], model.predict(X_tests[model_name]))\n",
    "    evaluation_metrics[model_name] = (cls_report, conf_matrix)"
   ]
  },
  {
   "cell_type": "markdown",
   "metadata": {},
   "source": [
    "Plotting evaluations of all 4 models"
   ]
  },
  {
   "cell_type": "code",
   "execution_count": 11,
   "metadata": {},
   "outputs": [
    {
     "name": "stdout",
     "output_type": "stream",
     "text": [
      "Model: 60/40\n",
      "Classification Report:\n",
      "              precision    recall  f1-score   support\n",
      "\n",
      "           B       0.95      0.97      0.96       143\n",
      "           M       0.95      0.91      0.93        85\n",
      "\n",
      "    accuracy                           0.95       228\n",
      "   macro avg       0.95      0.94      0.94       228\n",
      "weighted avg       0.95      0.95      0.95       228\n",
      "\n"
     ]
    },
    {
     "data": {
      "image/png": "[encoded data removed]",
      "text/plain": [
       "<Figure size 640x480 with 2 Axes>"
      ]
     },
     "metadata": {},
     "output_type": "display_data"
    }
   ],
   "source": [
    "plot_evaluation('60/40', *evaluation_metrics['60/40'])"
   ]
  },
  {
   "cell_type": "code",
   "execution_count": 12,
   "metadata": {},
   "outputs": [
    {
     "name": "stdout",
     "output_type": "stream",
     "text": [
      "Model: 40/60\n",
      "Classification Report:\n",
      "              precision    recall  f1-score   support\n",
      "\n",
      "           B       0.91      0.94      0.93       215\n",
      "           M       0.90      0.85      0.87       127\n",
      "\n",
      "    accuracy                           0.91       342\n",
      "   macro avg       0.91      0.90      0.90       342\n",
      "weighted avg       0.91      0.91      0.91       342\n",
      "\n"
     ]
    },
    {
     "data": {
      "image/png": "[encoded data removed]",
      "text/plain": [
       "<Figure size 640x480 with 2 Axes>"
      ]
     },
     "metadata": {},
     "output_type": "display_data"
    }
   ],
   "source": [
    "plot_evaluation('40/60', *evaluation_metrics['40/60'])"
   ]
  },
  {
   "cell_type": "code",
   "execution_count": 13,
   "metadata": {},
   "outputs": [
    {
     "name": "stdout",
     "output_type": "stream",
     "text": [
      "Model: 80/20\n",
      "Classification Report:\n",
      "              precision    recall  f1-score   support\n",
      "\n",
      "           B       0.97      0.94      0.96        72\n",
      "           M       0.91      0.95      0.93        42\n",
      "\n",
      "    accuracy                           0.95       114\n",
      "   macro avg       0.94      0.95      0.94       114\n",
      "weighted avg       0.95      0.95      0.95       114\n",
      "\n"
     ]
    },
    {
     "data": {
      "image/png": "[encoded data removed]",
      "text/plain": [
       "<Figure size 640x480 with 2 Axes>"
      ]
     },
     "metadata": {},
     "output_type": "display_data"
    }
   ],
   "source": [
    "plot_evaluation('80/20', *evaluation_metrics['80/20'])"
   ]
  },
  {
   "cell_type": "code",
   "execution_count": 14,
   "metadata": {},
   "outputs": [
    {
     "name": "stdout",
     "output_type": "stream",
     "text": [
      "Model: 90/10\n",
      "Classification Report:\n",
      "              precision    recall  f1-score   support\n",
      "\n",
      "           B       0.92      0.94      0.93        36\n",
      "           M       0.90      0.86      0.88        21\n",
      "\n",
      "    accuracy                           0.91        57\n",
      "   macro avg       0.91      0.90      0.90        57\n",
      "weighted avg       0.91      0.91      0.91        57\n",
      "\n"
     ]
    },
    {
     "data": {
      "image/png": "[encoded data removed]",
      "text/plain": [
       "<Figure size 640x480 with 2 Axes>"
      ]
     },
     "metadata": {},
     "output_type": "display_data"
    }
   ],
   "source": [
    "plot_evaluation('90/10', *evaluation_metrics['90/10'])"
   ]
  },
  {
   "cell_type": "markdown",
   "metadata": {},
   "source": [
    "*For comments, please refer to the report document.*"
   ]
  },
  {
   "cell_type": "markdown",
   "metadata": {},
   "source": [
    "## The depth and accuracy of a decision tree\n",
    "\n",
    "This task works on the 80/20 training set and test set."
   ]
  },
  {
   "cell_type": "markdown",
   "metadata": {},
   "source": [
    "Prepare the data set."
   ]
  },
  {
   "cell_type": "code",
   "execution_count": 15,
   "metadata": {},
   "outputs": [],
   "source": [
    "propotion = '80/20'\n",
    "\n",
    "X_train, y_train = X_trains[propotion], y_trains[propotion]\n",
    "X_test, y_test = X_tests[propotion], y_tests[propotion]"
   ]
  },
  {
   "cell_type": "markdown",
   "metadata": {},
   "source": [
    "Create 7 models with different maximum depths."
   ]
  },
  {
   "cell_type": "code",
   "execution_count": 16,
   "metadata": {},
   "outputs": [],
   "source": [
    "max_depths = [None, 2, 3, 4, 5, 6, 7]\n",
    "\n",
    "models_max_depth = dict()\n",
    "\n",
    "for max_depth in max_depths:\n",
    "    model = DecisionTreeClassifier(max_depth=max_depth)\n",
    "    model.fit(X_train, y_train)\n",
    "    models_max_depth[max_depth] = model"
   ]
  },
  {
   "cell_type": "markdown",
   "metadata": {},
   "source": [
    "Export all images of this section inside subfolder `model_w_depth_accuracy`. Save accuracy of each model into `accuracies`."
   ]
  },
  {
   "cell_type": "code",
   "execution_count": 24,
   "metadata": {},
   "outputs": [],
   "source": [
    "if os.path.exists('images/model_w_depth_accuracy') == False:\n",
    "    os.mkdir('images/model_w_depth_accuracy')\n",
    "\n",
    "accuracies = dict()\n",
    "\n",
    "for max_depth, model in models_max_depth.items():\n",
    "    export_model_image(model, f'images/model_w_depth_accuracy/DT_max_depth_{max_depth}')\n",
    "    accuracies[max_depth] = accuracy_score(y_test, model.predict(X_test))"
   ]
  },
  {
   "cell_type": "markdown",
   "metadata": {},
   "source": [
    "*For comments, please refer to the report document.*"
   ]
  }
 ],
 "metadata": {
  "kernelspec": {
   "display_name": "school",
   "language": "python",
   "name": "python3"
  },
  "language_info": {
   "codemirror_mode": {
    "name": "ipython",
    "version": 3
   },
   "file_extension": ".py",
   "mimetype": "text/x-python",
   "name": "python",
   "nbconvert_exporter": "python",
   "pygments_lexer": "ipython3",
   "version": "3.12.4"
  }
 },
 "nbformat": 4,
 "nbformat_minor": 2
}
