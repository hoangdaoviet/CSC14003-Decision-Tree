{
 "cells": [
  {
   "cell_type": "markdown",
   "metadata": {},
   "source": [
    "# Lab 2 : Decision Tree"
   ]
  },
  {
   "cell_type": "markdown",
   "metadata": {},
   "source": [
    "## Preparing the dataset"
   ]
  },
  {
   "cell_type": "markdown",
   "metadata": {},
   "source": [
    "Import necessities"
   ]
  },
  {
   "cell_type": "code",
   "execution_count": 1,
   "metadata": {},
   "outputs": [],
   "source": [
    "from sklearn.model_selection import train_test_split\n",
    "from sklearn.tree import DecisionTreeClassifier\n",
    "from sklearn.metrics import accuracy_score\n",
    "from sklearn.tree import export_graphviz\n",
    "import graphviz"
   ]
  },
  {
   "cell_type": "markdown",
   "metadata": {},
   "source": [
    "Download the dataset"
   ]
  },
  {
   "cell_type": "code",
   "execution_count": 2,
   "metadata": {},
   "outputs": [
    {
     "name": "stdout",
     "output_type": "stream",
     "text": [
      "Requirement already satisfied: ucimlrepo in /home/daoviethoang/anaconda3/envs/school/lib/python3.12/site-packages (0.0.7)\n",
      "Requirement already satisfied: pandas>=1.0.0 in /home/daoviethoang/anaconda3/envs/school/lib/python3.12/site-packages (from ucimlrepo) (2.2.2)\n",
      "Requirement already satisfied: certifi>=2020.12.5 in /home/daoviethoang/anaconda3/envs/school/lib/python3.12/site-packages (from ucimlrepo) (2024.7.4)\n",
      "Requirement already satisfied: numpy>=1.26.0 in /home/daoviethoang/anaconda3/envs/school/lib/python3.12/site-packages (from pandas>=1.0.0->ucimlrepo) (2.0.1)\n",
      "Requirement already satisfied: python-dateutil>=2.8.2 in /home/daoviethoang/anaconda3/envs/school/lib/python3.12/site-packages (from pandas>=1.0.0->ucimlrepo) (2.9.0.post0)\n",
      "Requirement already satisfied: pytz>=2020.1 in /home/daoviethoang/anaconda3/envs/school/lib/python3.12/site-packages (from pandas>=1.0.0->ucimlrepo) (2024.1)\n",
      "Requirement already satisfied: tzdata>=2022.7 in /home/daoviethoang/anaconda3/envs/school/lib/python3.12/site-packages (from pandas>=1.0.0->ucimlrepo) (2024.1)\n",
      "Requirement already satisfied: six>=1.5 in /home/daoviethoang/anaconda3/envs/school/lib/python3.12/site-packages (from python-dateutil>=2.8.2->pandas>=1.0.0->ucimlrepo) (1.16.0)\n",
      "Note: you may need to restart the kernel to use updated packages.\n"
     ]
    }
   ],
   "source": [
    "%pip install ucimlrepo"
   ]
  },
  {
   "cell_type": "markdown",
   "metadata": {},
   "source": [
    "Load dataset from drive to memory in `pandas.DataFrame`"
   ]
  },
  {
   "cell_type": "code",
   "execution_count": 3,
   "metadata": {},
   "outputs": [],
   "source": [
    "from ucimlrepo import fetch_ucirepo\n",
    "breast_cancer_wisconsin_diagnostic = fetch_ucirepo(id=17)\n",
    "\n",
    "feature = breast_cancer_wisconsin_diagnostic.data.features\n",
    "label = breast_cancer_wisconsin_diagnostic.data.targets"
   ]
  },
  {
   "cell_type": "markdown",
   "metadata": {},
   "source": [
    "Split dataset into two parts: training and testing (validation)"
   ]
  },
  {
   "cell_type": "code",
   "execution_count": 4,
   "metadata": {},
   "outputs": [],
   "source": [
    "train_feature, train_label = [], []\n",
    "test_feature, test_label = [], []\n",
    "\n",
    "train_propotions = [0.4, 0.6, 0.8, 0.9]\n",
    "for propotion in train_propotions:\n",
    "    feature_train, feature_test, label_train, label_test = train_test_split(\n",
    "        feature, label, \n",
    "        test_size=1-propotion,\n",
    "        stratify=label)\n",
    "    train_feature.append(feature_train)\n",
    "    test_feature.append(feature_test)\n",
    "    train_label.append(label_train)\n",
    "    test_label.append(label_test)"
   ]
  },
  {
   "cell_type": "code",
   "execution_count": 5,
   "metadata": {},
   "outputs": [
    {
     "data": {
      "text/plain": [
       "8"
      ]
     },
     "execution_count": 5,
     "metadata": {},
     "output_type": "execute_result"
    }
   ],
   "source": [
    "len(train_feature) + len(test_feature)"
   ]
  },
  {
   "cell_type": "markdown",
   "metadata": {},
   "source": [
    "## Building the tree classifier"
   ]
  },
  {
   "cell_type": "markdown",
   "metadata": {},
   "source": [
    "Train 4 models and save them along with their accuracies"
   ]
  },
  {
   "cell_type": "code",
   "execution_count": 6,
   "metadata": {},
   "outputs": [],
   "source": [
    "models = dict()\n",
    "\n",
    "for i in range(len(train_feature)):\n",
    "    model = DecisionTreeClassifier(criterion='entropy')\n",
    "    model.fit(train_feature[i], train_label[i])\n",
    "    label_pred = model.predict(test_feature[i])\n",
    "    accuracy = accuracy_score(test_label[i], label_pred)\n",
    "\n",
    "    models[f\"model_{i+1}\"] = model, accuracy"
   ]
  },
  {
   "cell_type": "markdown",
   "metadata": {},
   "source": [
    "`export_model_image` function exports visualizing image of the decision tree, with a custom name."
   ]
  },
  {
   "cell_type": "code",
   "execution_count": 7,
   "metadata": {},
   "outputs": [],
   "source": [
    "def export_model_image(model, filename, save_picture=True):\n",
    "    dot_data = export_graphviz(model, \n",
    "                            out_file=None, \n",
    "                            feature_names=[feature_name for feature_name in feature], \n",
    "                            class_names=['benign', 'malignant'],\n",
    "                            filled=True, \n",
    "                            rounded=True,\n",
    "                            special_characters=True)\n",
    "\n",
    "    graph = graphviz.Source(dot_data)  \n",
    "    graph.format = 'png'\n",
    "    graph.render(filename=filename)\n",
    "    graph.view()"
   ]
  },
  {
   "cell_type": "markdown",
   "metadata": {},
   "source": [
    "Export visualizations of all models"
   ]
  },
  {
   "cell_type": "code",
   "execution_count": 8,
   "metadata": {},
   "outputs": [],
   "source": [
    "for model_name, (model, accuracy) in models.items():\n",
    "    export_model_image(model, model_name)"
   ]
  }
 ],
 "metadata": {
  "kernelspec": {
   "display_name": "school",
   "language": "python",
   "name": "python3"
  },
  "language_info": {
   "codemirror_mode": {
    "name": "ipython",
    "version": 3
   },
   "file_extension": ".py",
   "mimetype": "text/x-python",
   "name": "python",
   "nbconvert_exporter": "python",
   "pygments_lexer": "ipython3",
   "version": "3.12.4"
  }
 },
 "nbformat": 4,
 "nbformat_minor": 2
}
