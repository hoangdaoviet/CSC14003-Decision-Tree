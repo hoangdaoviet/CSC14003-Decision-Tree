{
 "cells": [
  {
   "cell_type": "markdown",
   "metadata": {},
   "source": [
    "# Lab 2 : Decision Tree"
   ]
  },
  {
   "cell_type": "markdown",
   "metadata": {},
   "source": [
    "## Preparing the dataset"
   ]
  },
  {
   "cell_type": "markdown",
   "metadata": {},
   "source": [
    "Import necessities"
   ]
  },
  {
   "cell_type": "code",
   "execution_count": 1,
   "metadata": {},
   "outputs": [],
   "source": [
    "import os\n",
    "from sklearn.model_selection import train_test_split\n",
    "from sklearn.tree import DecisionTreeClassifier\n",
    "from sklearn.tree import export_graphviz\n",
    "from sklearn.metrics import classification_report, confusion_matrix\n",
    "import graphviz"
   ]
  },
  {
   "cell_type": "markdown",
   "metadata": {},
   "source": [
    "Download the dataset"
   ]
  },
  {
   "cell_type": "code",
   "execution_count": 2,
   "metadata": {},
   "outputs": [
    {
     "name": "stdout",
     "output_type": "stream",
     "text": [
      "Requirement already satisfied: ucimlrepo in /home/daoviethoang/anaconda3/envs/school/lib/python3.12/site-packages (0.0.7)\n",
      "Requirement already satisfied: pandas>=1.0.0 in /home/daoviethoang/anaconda3/envs/school/lib/python3.12/site-packages (from ucimlrepo) (2.2.2)\n",
      "Requirement already satisfied: certifi>=2020.12.5 in /home/daoviethoang/anaconda3/envs/school/lib/python3.12/site-packages (from ucimlrepo) (2024.7.4)\n",
      "Requirement already satisfied: numpy>=1.26.0 in /home/daoviethoang/anaconda3/envs/school/lib/python3.12/site-packages (from pandas>=1.0.0->ucimlrepo) (2.0.1)\n",
      "Requirement already satisfied: python-dateutil>=2.8.2 in /home/daoviethoang/anaconda3/envs/school/lib/python3.12/site-packages (from pandas>=1.0.0->ucimlrepo) (2.9.0.post0)\n",
      "Requirement already satisfied: pytz>=2020.1 in /home/daoviethoang/anaconda3/envs/school/lib/python3.12/site-packages (from pandas>=1.0.0->ucimlrepo) (2024.1)\n",
      "Requirement already satisfied: tzdata>=2022.7 in /home/daoviethoang/anaconda3/envs/school/lib/python3.12/site-packages (from pandas>=1.0.0->ucimlrepo) (2024.1)\n",
      "Requirement already satisfied: six>=1.5 in /home/daoviethoang/anaconda3/envs/school/lib/python3.12/site-packages (from python-dateutil>=2.8.2->pandas>=1.0.0->ucimlrepo) (1.16.0)\n",
      "Note: you may need to restart the kernel to use updated packages.\n"
     ]
    }
   ],
   "source": [
    "%pip install ucimlrepo"
   ]
  },
  {
   "cell_type": "markdown",
   "metadata": {},
   "source": [
    "Load dataset from drive to memory in `pandas.DataFrame`"
   ]
  },
  {
   "cell_type": "code",
   "execution_count": 3,
   "metadata": {},
   "outputs": [],
   "source": [
    "from ucimlrepo import fetch_ucirepo\n",
    "breast_cancer_wisconsin_diagnostic = fetch_ucirepo(id=17)\n",
    "\n",
    "feature = breast_cancer_wisconsin_diagnostic.data.features\n",
    "label = breast_cancer_wisconsin_diagnostic.data.targets"
   ]
  },
  {
   "cell_type": "markdown",
   "metadata": {},
   "source": [
    "Split dataset into two parts: training and testing (validation)"
   ]
  },
  {
   "cell_type": "code",
   "execution_count": 4,
   "metadata": {},
   "outputs": [],
   "source": [
    "train_features, train_labels = dict(), dict()\n",
    "test_features, test_labels = dict(), dict()\n",
    "\n",
    "train_test_propotions = ['60/40', '40/60', '80/20', '90/10']\n",
    "\n",
    "for propotion in train_test_propotions:\n",
    "    test_size = 1 - int(propotion.split('/')[0]) / 100\n",
    "    feature_train, feature_test, label_train, label_test = train_test_split(\n",
    "        feature, label, \n",
    "        test_size=test_size,\n",
    "        stratify=label)\n",
    "    train_features[propotion] = feature_train\n",
    "    train_labels[propotion] = label_train\n",
    "    test_features[propotion] = feature_test\n",
    "    test_labels[propotion] = label_test"
   ]
  },
  {
   "cell_type": "markdown",
   "metadata": {},
   "source": [
    "## Building the tree classifier"
   ]
  },
  {
   "cell_type": "markdown",
   "metadata": {},
   "source": [
    "Train 4 models and save them along with their accuracies"
   ]
  },
  {
   "cell_type": "code",
   "execution_count": 5,
   "metadata": {},
   "outputs": [],
   "source": [
    "models = dict()\n",
    "\n",
    "for propotion in train_test_propotions:\n",
    "    model = DecisionTreeClassifier()\n",
    "    model.fit(train_features[propotion], train_labels[propotion])\n",
    "    models[propotion] = model"
   ]
  },
  {
   "cell_type": "markdown",
   "metadata": {},
   "source": [
    "`export_model_image` function exports visualizing image of the decision tree, with a custom name."
   ]
  },
  {
   "cell_type": "code",
   "execution_count": 6,
   "metadata": {},
   "outputs": [],
   "source": [
    "def export_model_image(model, filename, save_picture=True):\n",
    "    dot_data = export_graphviz(model, \n",
    "                            out_file=None, \n",
    "                            feature_names=[feature_name for feature_name in feature], \n",
    "                            class_names=['benign', 'malignant'],\n",
    "                            filled=True, \n",
    "                            rounded=True,\n",
    "                            special_characters=True)\n",
    "\n",
    "    graph = graphviz.Source(dot_data)  \n",
    "    graph.format = 'png'\n",
    "    graph.render(filename=filename)\n",
    "    # graph.view()"
   ]
  },
  {
   "cell_type": "markdown",
   "metadata": {},
   "source": [
    "Export visualizations of all models"
   ]
  },
  {
   "cell_type": "code",
   "execution_count": 7,
   "metadata": {},
   "outputs": [],
   "source": [
    "visualization_folder = 'images'\n",
    "\n",
    "if os.path.exists(visualization_folder) == False:\n",
    "    os.mkdir(visualization_folder)\n",
    "\n",
    "for propotion, model in models.items():\n",
    "    propotion = propotion.replace('/', '_')\n",
    "    export_model_image(model, f'{visualization_folder}/Decision_Tree_({propotion})')"
   ]
  },
  {
   "cell_type": "markdown",
   "metadata": {},
   "source": [
    "## Evaluating the decision tree classifiers"
   ]
  },
  {
   "cell_type": "markdown",
   "metadata": {},
   "source": [
    "Create classification report and confusion matrix for each models"
   ]
  },
  {
   "cell_type": "code",
   "execution_count": 10,
   "metadata": {},
   "outputs": [
    {
     "name": "stdout",
     "output_type": "stream",
     "text": [
      "Model: 60/40\n",
      "Classification Report:\n",
      "              precision    recall  f1-score   support\n",
      "\n",
      "           B       0.97      0.93      0.95       143\n",
      "           M       0.89      0.95      0.92        85\n",
      "\n",
      "    accuracy                           0.94       228\n",
      "   macro avg       0.93      0.94      0.94       228\n",
      "weighted avg       0.94      0.94      0.94       228\n",
      "\n",
      "Confusion Matrix:\n",
      "[[133  10]\n",
      " [  4  81]]\n",
      "\n",
      "Model: 40/60\n",
      "Classification Report:\n",
      "              precision    recall  f1-score   support\n",
      "\n",
      "           B       0.94      0.91      0.92       215\n",
      "           M       0.86      0.90      0.88       127\n",
      "\n",
      "    accuracy                           0.91       342\n",
      "   macro avg       0.90      0.90      0.90       342\n",
      "weighted avg       0.91      0.91      0.91       342\n",
      "\n",
      "Confusion Matrix:\n",
      "[[196  19]\n",
      " [ 13 114]]\n",
      "\n",
      "Model: 80/20\n",
      "Classification Report:\n",
      "              precision    recall  f1-score   support\n",
      "\n",
      "           B       0.92      0.96      0.94        72\n",
      "           M       0.92      0.86      0.89        42\n",
      "\n",
      "    accuracy                           0.92       114\n",
      "   macro avg       0.92      0.91      0.91       114\n",
      "weighted avg       0.92      0.92      0.92       114\n",
      "\n",
      "Confusion Matrix:\n",
      "[[69  3]\n",
      " [ 6 36]]\n",
      "\n",
      "Model: 90/10\n",
      "Classification Report:\n",
      "              precision    recall  f1-score   support\n",
      "\n",
      "           B       0.94      0.94      0.94        36\n",
      "           M       0.90      0.90      0.90        21\n",
      "\n",
      "    accuracy                           0.93        57\n",
      "   macro avg       0.92      0.92      0.92        57\n",
      "weighted avg       0.93      0.93      0.93        57\n",
      "\n",
      "Confusion Matrix:\n",
      "[[34  2]\n",
      " [ 2 19]]\n",
      "\n"
     ]
    }
   ],
   "source": [
    "model_classification_reports = dict()\n",
    "model_confusion_matrices = dict()\n",
    "\n",
    "for model_name, model in models.items():\n",
    "    cls_report = classification_report(test_labels[model_name], model.predict(test_features[model_name])) \n",
    "    conf_matrix = confusion_matrix(test_labels[model_name], model.predict(test_features[model_name]))\n",
    "    print(f'Model: {model_name}')\n",
    "    print(f'Classification Report:\\n{cls_report}')\n",
    "    print(f'Confusion Matrix:\\n{conf_matrix}\\n')\n",
    "    model_classification_reports[model_name] = cls_report\n",
    "    model_confusion_matrices[model_name] = conf_matrix"
   ]
  },
  {
   "cell_type": "code",
   "execution_count": null,
   "metadata": {},
   "outputs": [],
   "source": []
  }
 ],
 "metadata": {
  "kernelspec": {
   "display_name": "school",
   "language": "python",
   "name": "python3"
  },
  "language_info": {
   "codemirror_mode": {
    "name": "ipython",
    "version": 3
   },
   "file_extension": ".py",
   "mimetype": "text/x-python",
   "name": "python",
   "nbconvert_exporter": "python",
   "pygments_lexer": "ipython3",
   "version": "3.12.4"
  }
 },
 "nbformat": 4,
 "nbformat_minor": 2
}
